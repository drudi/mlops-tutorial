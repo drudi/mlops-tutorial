{
  "cells": [
    {
      "cell_type": "code",
      "execution_count": null,
      "metadata": {
        "colab": {
          "base_uri": "https://localhost:8080/"
        },
        "id": "9gMVj3rZ2WrT",
        "outputId": "5603ec76-65b6-4072-cbef-6f63e6fd3839"
      },
      "outputs": [],
      "source": [
        "%pip install --upgrade --quiet pandas mlflow plotly-express nbformat scikit-learn fastparquet pyarrow"
      ]
    },
    {
      "cell_type": "code",
      "execution_count": null,
      "metadata": {},
      "outputs": [],
      "source": [
        "import os\n",
        "\n",
        "import mlflow\n",
        "import pandas as pd\n",
        "import plotly_express as px\n",
        "import sklearn\n",
        "import sklearn.model_selection\n",
        "import sklearn.pipeline\n",
        "import sklearn.preprocessing\n",
        "import sklearn.linear_model\n",
        "import sklearn.ensemble\n",
        "import sklearn.tree"
      ]
    },
    {
      "attachments": {},
      "cell_type": "markdown",
      "metadata": {},
      "source": [
        "Load a dataset containing some SCADA data.\n",
        "\n",
        "<small>Note: this is publicly available data, not Vattenfall's data</small>"
      ]
    },
    {
      "cell_type": "code",
      "execution_count": null,
      "metadata": {},
      "outputs": [],
      "source": [
        "url = \"https://raw.githubusercontent.com/dunnkers/experiment-tracking-with-mlflow/main/data/scada.parquet\"\n",
        "data = pd.read_parquet(url)\n",
        "data"
      ]
    },
    {
      "attachments": {},
      "cell_type": "markdown",
      "metadata": {},
      "source": [
        "## Explore the data\n",
        "\n",
        "First, let's check out the \"Active power\" column against time."
      ]
    },
    {
      "cell_type": "code",
      "execution_count": null,
      "metadata": {},
      "outputs": [],
      "source": [
        "px.line(data, y=\"active_power\")"
      ]
    },
    {
      "attachments": {},
      "cell_type": "markdown",
      "metadata": {},
      "source": [
        "And also the wind speed:"
      ]
    },
    {
      "cell_type": "code",
      "execution_count": null,
      "metadata": {},
      "outputs": [],
      "source": [
        "fig = px.line(data, y=\"wind_speed\")\n",
        "fig.update_traces(line_color=\"#FECB52\")\n",
        "fig"
      ]
    },
    {
      "attachments": {},
      "cell_type": "markdown",
      "metadata": {},
      "source": [
        "Instead of using time as the x-axis, let's try putting the wind speed there and plot it against power. This will give us a power curve! 📈"
      ]
    },
    {
      "cell_type": "code",
      "execution_count": null,
      "metadata": {},
      "outputs": [],
      "source": [
        "fig = px.scatter(data, x=\"wind_speed\", y=[\"active_power\", \"theoretical_power\"])\n",
        "fig.update_layout(\n",
        "    xaxis_title=\"Wind speed (m/s)\",\n",
        "    yaxis_title=\"Power\",\n",
        ")\n",
        "fig"
      ]
    },
    {
      "attachments": {},
      "cell_type": "markdown",
      "metadata": {},
      "source": [
        "## Training a model\n",
        "Next step! Let's train a model to predict power output. Such, we can validate whether something might be wrong with the turbine."
      ]
    },
    {
      "attachments": {},
      "cell_type": "markdown",
      "metadata": {},
      "source": [
        "Choose features and the target, constructing `X` and `y`:"
      ]
    },
    {
      "cell_type": "code",
      "execution_count": null,
      "metadata": {},
      "outputs": [],
      "source": [
        "data_without_na = data.dropna()\n",
        "X = data_without_na[[\n",
        "    \"wind_speed\",\n",
        "    # \"wind_direction\",\n",
        "    # \"is_curtailed\"\n",
        "]]\n",
        "y = data_without_na[\"active_power\"]\n",
        "print(f\"Features: {X.columns.to_list()}, target: {y.name}\")"
      ]
    },
    {
      "attachments": {},
      "cell_type": "markdown",
      "metadata": {},
      "source": [
        "Cross validation:"
      ]
    },
    {
      "cell_type": "code",
      "execution_count": null,
      "metadata": {},
      "outputs": [],
      "source": [
        "X_train, X_test, y_train, y_test = sklearn.model_selection.train_test_split(\n",
        "    X,\n",
        "    y,\n",
        "    shuffle=False,\n",
        "    train_size=0.1 # use (only) 10% of all data for training\n",
        ")\n",
        "test_index_min = X_test.index.min()\n",
        "test_index_max = X_test.index.max()\n",
        "print(f\"Training data from {X_train.index.min()} to {X_train.index.max()}\")\n",
        "print(f\"Testing data from {test_index_min} to {test_index_max}\")"
      ]
    },
    {
      "attachments": {},
      "cell_type": "markdown",
      "metadata": {},
      "source": [
        "Set up the model:"
      ]
    },
    {
      "cell_type": "code",
      "execution_count": null,
      "metadata": {},
      "outputs": [],
      "source": [
        "model = sklearn.pipeline.make_pipeline(\n",
        "    # Preprocessing\n",
        "    # sklearn.preprocessing.StandardScaler(),\n",
        "    # sklearn.preprocessing.PolynomialFeatures(degree=3),\n",
        "\n",
        "    # Model\n",
        "    sklearn.linear_model.LinearRegression(),\n",
        "    # sklearn.linear_model.Ridge(),\n",
        "    # sklearn.tree.DecisionTreeRegressor(),\n",
        "    # sklearn.ensemble.RandomForestRegressor(),\n",
        ")"
      ]
    },
    {
      "attachments": {},
      "cell_type": "markdown",
      "metadata": {},
      "source": [
        "Train model"
      ]
    },
    {
      "cell_type": "code",
      "execution_count": null,
      "metadata": {},
      "outputs": [],
      "source": [
        "model.fit(X_train, y_train)"
      ]
    },
    {
      "attachments": {},
      "cell_type": "markdown",
      "metadata": {},
      "source": [
        "Evaluate model"
      ]
    },
    {
      "cell_type": "code",
      "execution_count": null,
      "metadata": {},
      "outputs": [],
      "source": [
        "score = model.score(X_test, y_test)\n",
        "score"
      ]
    },
    {
      "attachments": {},
      "cell_type": "markdown",
      "metadata": {},
      "source": [
        "Predict on all data"
      ]
    },
    {
      "cell_type": "code",
      "execution_count": null,
      "metadata": {},
      "outputs": [],
      "source": [
        "data.loc[X.index, \"predictions\"] = model.predict(X)\n",
        "data.loc[X.index, \"residuals\"] = data[\"active_power\"] - data[\"predictions\"]"
      ]
    },
    {
      "attachments": {},
      "cell_type": "markdown",
      "metadata": {},
      "source": [
        "Make a nice plot of the predictions 📊"
      ]
    },
    {
      "cell_type": "code",
      "execution_count": null,
      "metadata": {},
      "outputs": [],
      "source": [
        "fig = px.line(\n",
        "    data[test_index_min:],\n",
        "    y=[\"active_power\", \"predictions\"]\n",
        ")\n",
        "fig"
      ]
    },
    {
      "attachments": {},
      "cell_type": "markdown",
      "metadata": {},
      "source": [
        "## 📝 Assignments\n",
        "Well, we just trained a model and visualized the results. That was great! But can we now track the results using **MLFlow**? Let's try it out! Don't forget to help each other 🤝!\n",
        "\n",
        "💡 Tip: use the [MLFlow documentation](https://www.mlflow.org/docs/latest/tracking.html#logging-functions)\n",
        "\n",
        "0. **📝 Make it yours**\n",
        "\n",
        "    First, let's make sure that whatever will be logged will be associated with you.\n",
        "\n",
        "    Fill out your name in the `name` variable below.\n",
        "\n",
        "1. **🤔 What does `start_run` do?**\n",
        "\n",
        "    What does the `with` statement do in Python? What does [`mlflow.start_run()`](https://mlflow.org/docs/latest/python_api/mlflow.html#mlflow.start_run) do?\n",
        "    \n",
        "    Run the code and find your run in the MLFlow UI. Find the link below. Try showing the _User_ column to find your run.\n",
        "\n",
        "    - ✓ You can find your run in the MLFlow UI.\n",
        "\n",
        "    - ⤫ Ask for help if you cannot find your run.\n",
        "\n",
        "2. **📦 Logging the model**\n",
        "\n",
        "    Now, log the trained using [`mlflow.sklearn.log_model`](https://mlflow.org/docs/latest/python_api/mlflow.sklearn.html#mlflow.sklearn.log_model). The trained model is stored in the `model` variable. \n",
        "\n",
        "    - ✓ You should now see _Artifacts_ in your MLFlow experiment run.\n",
        "\n",
        "    <small>🎁 Bonus: What does the `registered_model_name` parameter do in the `log_model` function?</small>\n",
        "\n",
        "3. **📈 Logging the R2 score**\n",
        "\n",
        "    Next, log the model score using [`mlflow.log_metric`](https://mlflow.org/docs/latest/python_api/mlflow.html#mlflow.log_metric). Call your metric `R2_score`. The model score is stored in the `score` variable.\n",
        "\n",
        "    - ✓ You should now see the R2 score in the _Metrics_ tab of your run.\n",
        "\n",
        "4. **📈 Logging the plot**\n",
        "\n",
        "    It would also be nice to get that nice plot in the MLFlow UI. Try to log the plot using [`mlflow.log_figure`](https://mlflow.org/docs/latest/python_api/mlflow.html#mlflow.log_figure).\n",
        "\n",
        "    💡 Tip: save the plot with a `.html` extension to make the plot interactive. If you don't want an interactive plot, you can use `.png`.\n",
        "\n",
        "    - ✓ Find the plot saved in the _Artifacts_ tab.\n",
        "\n",
        "5. **🎯 Improving the model**\n",
        "\n",
        "    The model is okay but can be much improved 😊. Go into the code above and see if there are any improvements to be made.\n",
        "    \n",
        "    Think of things like additional features, feature-processing, or a different model. Once you have done modifications, run the code again and log the results using MLFlow 👍🏻.\n",
        "    \n",
        "    <small>💡 Tip: Perhaps some of the commented lines can help you out 😏.</small>\n",
        "\n",
        "    - ✓ You improved the model R2 score!\n",
        "\n",
        "    <small>🎁 Bonus: What else is useful to log to mlflow? Extend your experiment logging.</small>\n"
      ]
    },
    {
      "cell_type": "code",
      "execution_count": null,
      "metadata": {},
      "outputs": [],
      "source": [
        "# TODO [Assignment 0]: fill in your name below 📝\n",
        "your_name: str = \"< fill in your name here >\"\n",
        "\n",
        "# mlflow setup\n",
        "os.environ[\"LOGNAME\"] = your_name\n",
        "mlflow.set_tracking_uri(\"http://20.31.89.132:5000\")"
      ]
    },
    {
      "cell_type": "code",
      "execution_count": null,
      "metadata": {},
      "outputs": [],
      "source": [
        "# TODO [Assignment 1]: what does `mlflow.start_run()` do?\n",
        "with mlflow.start_run():\n",
        "    mlflow.log_param(\"features\", str(X.columns))\n",
        "    mlflow.log_param(\"model_name\", str(model))\n",
        "\n",
        "    # TODO [Assignment 2]: log the model using mlflow.sklearn.log_model\n",
        "    ...\n",
        "\n",
        "    # TODO [Assignment 3]: log the model test score as `test_score` using mlflow.log_metric\n",
        "    ...\n",
        "\n",
        "    # TODO [Assignment 4]: log the plotly figure using mlflow.log_figure\n",
        "    ...\n",
        "\n",
        "\n",
        "# TODO [Assignment 5]: Go in the Notebook code above ^^ and make improvements to the model!"
      ]
    },
    {
      "attachments": {},
      "cell_type": "markdown",
      "metadata": {},
      "source": [
        "Visit the MLFlow server:\n",
        "\n",
        "[http://20.31.89.132:5000/](http://20.31.89.132:5000/)\n",
        "\n",
        "Find your experiment!\n",
        "\n",
        "🎉"
      ]
    }
  ],
  "metadata": {
    "colab": {
      "provenance": []
    },
    "kernelspec": {
      "display_name": "Python 3",
      "name": "python3"
    },
    "language_info": {
      "codemirror_mode": {
        "name": "ipython",
        "version": 3
      },
      "file_extension": ".py",
      "mimetype": "text/x-python",
      "name": "python",
      "nbconvert_exporter": "python",
      "pygments_lexer": "ipython3",
      "version": "3.10.9"
    }
  },
  "nbformat": 4,
  "nbformat_minor": 0
}
