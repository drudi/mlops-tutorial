{
  "cells": [
    {
      "cell_type": "code",
      "execution_count": 1,
      "metadata": {
        "colab": {
          "base_uri": "https://localhost:8080/"
        },
        "id": "9gMVj3rZ2WrT",
        "outputId": "5603ec76-65b6-4072-cbef-6f63e6fd3839"
      },
      "outputs": [
        {
          "name": "stdout",
          "output_type": "stream",
          "text": [
            "Note: you may need to restart the kernel to use updated packages.\n"
          ]
        }
      ],
      "source": [
        "%pip install --quiet mlflow plotly-express"
      ]
    },
    {
      "cell_type": "code",
      "execution_count": 2,
      "metadata": {
        "id": "xpBec0RL2Ki9"
      },
      "outputs": [],
      "source": [
        "from sklearn.datasets import load_iris\n",
        "from sklearn.model_selection import train_test_split\n",
        "\n",
        "data = load_iris()\n",
        "X, y = data.data, data.target\n",
        "seed = 10 #Specify a seed value.\n",
        "\n",
        "X_train, X_test, y_train, y_test = train_test_split(X, y, random_state = seed, stratify = y)\n"
      ]
    },
    {
      "cell_type": "code",
      "execution_count": null,
      "metadata": {
        "id": "7QxKFEUJrs-t"
      },
      "outputs": [],
      "source": []
    },
    {
      "cell_type": "code",
      "execution_count": 5,
      "metadata": {
        "id": "3qW1WFty2Tsg"
      },
      "outputs": [],
      "source": [
        "import mlflow"
      ]
    },
    {
      "cell_type": "code",
      "execution_count": 3,
      "metadata": {
        "id": "oMfMbZ37SHUV"
      },
      "outputs": [
        {
          "data": {
            "text/plain": [
              "'http://20.123.252.224:5000'"
            ]
          },
          "execution_count": 3,
          "metadata": {},
          "output_type": "execute_result"
        }
      ],
      "source": [
        "import os\n",
        "\n",
        "\n",
        "tracking_uri = os.environ.get(\"MLFLOW_TRACKING_URI\", \"<fill in right before workshop>\")\n",
        "tracking_uri\n"
      ]
    },
    {
      "cell_type": "code",
      "execution_count": 6,
      "metadata": {},
      "outputs": [],
      "source": [
        "\n",
        "mlflow.set_tracking_uri(tracking_uri)"
      ]
    },
    {
      "cell_type": "code",
      "execution_count": 7,
      "metadata": {
        "colab": {
          "base_uri": "https://localhost:8080/"
        },
        "id": "YCJxWIxG2ODJ",
        "outputId": "3febb4e2-977c-4207-b85f-e3a22b8aa991"
      },
      "outputs": [
        {
          "name": "stderr",
          "output_type": "stream",
          "text": [
            "2023/06/21 13:43:01 WARNING mlflow.utils.autologging_utils: MLflow autologging encountered a warning: \"/Users/dunnkers/.pyenv/versions/3.10.9/envs/data-engineering-mlops-workshop-3-10/lib/python3.10/site-packages/_distutils_hack/__init__.py:33: UserWarning: Setuptools is replacing distutils.\"\n"
          ]
        }
      ],
      "source": [
        "from sklearn.ensemble import RandomForestClassifier\n",
        "\n",
        "with mlflow.start_run():\n",
        "\n",
        "  mlflow.log_param(\"name\", \"<fill in your name here>\")\n",
        "\n",
        "  #Logging the seed value to passed to the train_test_split function.\n",
        "  mlflow.log_param(\"seed\", seed)\n",
        "\n",
        "  estimators = int(input(\"Estimator(s): \"))\n",
        "\n",
        "  #Model definition.\n",
        "  rclf = RandomForestClassifier(n_estimators = estimators)\n",
        "\n",
        "  mlflow.sklearn.autolog()\n",
        "  rclf.fit(X_train, y_train)\n",
        "  rclf.score(X_test, y_test)\n"
      ]
    },
    {
      "cell_type": "code",
      "execution_count": 8,
      "metadata": {
        "id": "Ax5TQCBwQ065"
      },
      "outputs": [],
      "source": [
        "mlflow.end_run()"
      ]
    }
  ],
  "metadata": {
    "colab": {
      "provenance": []
    },
    "kernelspec": {
      "display_name": "Python 3",
      "name": "python3"
    },
    "language_info": {
      "codemirror_mode": {
        "name": "ipython",
        "version": 3
      },
      "file_extension": ".py",
      "mimetype": "text/x-python",
      "name": "python",
      "nbconvert_exporter": "python",
      "pygments_lexer": "ipython3",
      "version": "3.10.9"
    }
  },
  "nbformat": 4,
  "nbformat_minor": 0
}
